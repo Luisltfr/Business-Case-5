{
 "cells": [
  {
   "cell_type": "code",
   "execution_count": 1,
   "metadata": {},
   "outputs": [],
   "source": [
    "import dask.dataframe as dd\n",
    "import datetime\n",
    "from collections import defaultdict\n",
    "import numpy as np\n",
    "import time\n",
    "import pandas as pd"
   ]
  },
  {
   "cell_type": "code",
   "execution_count": 4,
   "metadata": {},
   "outputs": [
    {
     "name": "stdout",
     "output_type": "stream",
     "text": [
      "Wall time: 1min 56s\n"
     ]
    }
   ],
   "source": [
    "%%time\n",
    "df = pd.read_csv('df_total.csv')"
   ]
  },
  {
   "cell_type": "code",
   "execution_count": 7,
   "metadata": {},
   "outputs": [],
   "source": [
    "df['year'] = df['week'].str[:4]"
   ]
  },
  {
   "cell_type": "code",
   "execution_count": 8,
   "metadata": {},
   "outputs": [
    {
     "data": {
      "text/html": [
       "<div>\n",
       "<style scoped>\n",
       "    .dataframe tbody tr th:only-of-type {\n",
       "        vertical-align: middle;\n",
       "    }\n",
       "\n",
       "    .dataframe tbody tr th {\n",
       "        vertical-align: top;\n",
       "    }\n",
       "\n",
       "    .dataframe thead th {\n",
       "        text-align: right;\n",
       "    }\n",
       "</style>\n",
       "<table border=\"1\" class=\"dataframe\">\n",
       "  <thead>\n",
       "    <tr style=\"text-align: right;\">\n",
       "      <th></th>\n",
       "      <th>u</th>\n",
       "      <th>v</th>\n",
       "      <th>Family</th>\n",
       "      <th>Category</th>\n",
       "      <th>Brand</th>\n",
       "      <th>Name</th>\n",
       "      <th>week</th>\n",
       "      <th>sku</th>\n",
       "      <th>store</th>\n",
       "      <th>year</th>\n",
       "    </tr>\n",
       "  </thead>\n",
       "  <tbody>\n",
       "    <tr>\n",
       "      <th>0</th>\n",
       "      <td>1.0</td>\n",
       "      <td>1945.0</td>\n",
       "      <td>21</td>\n",
       "      <td>132</td>\n",
       "      <td>142</td>\n",
       "      <td>277</td>\n",
       "      <td>2016-01-01</td>\n",
       "      <td>1011</td>\n",
       "      <td>334</td>\n",
       "      <td>2016</td>\n",
       "    </tr>\n",
       "    <tr>\n",
       "      <th>1</th>\n",
       "      <td>1.0</td>\n",
       "      <td>675.0</td>\n",
       "      <td>21</td>\n",
       "      <td>110</td>\n",
       "      <td>143</td>\n",
       "      <td>282</td>\n",
       "      <td>2016-01-01</td>\n",
       "      <td>1030</td>\n",
       "      <td>69</td>\n",
       "      <td>2016</td>\n",
       "    </tr>\n",
       "    <tr>\n",
       "      <th>2</th>\n",
       "      <td>1.0</td>\n",
       "      <td>3249.0</td>\n",
       "      <td>21</td>\n",
       "      <td>35</td>\n",
       "      <td>145</td>\n",
       "      <td>288</td>\n",
       "      <td>2016-01-01</td>\n",
       "      <td>1045</td>\n",
       "      <td>52</td>\n",
       "      <td>2016</td>\n",
       "    </tr>\n",
       "    <tr>\n",
       "      <th>3</th>\n",
       "      <td>1.0</td>\n",
       "      <td>1040.0</td>\n",
       "      <td>21</td>\n",
       "      <td>127</td>\n",
       "      <td>147</td>\n",
       "      <td>294</td>\n",
       "      <td>2016-01-01</td>\n",
       "      <td>1052</td>\n",
       "      <td>4</td>\n",
       "      <td>2016</td>\n",
       "    </tr>\n",
       "    <tr>\n",
       "      <th>4</th>\n",
       "      <td>1.0</td>\n",
       "      <td>1640.0</td>\n",
       "      <td>21</td>\n",
       "      <td>127</td>\n",
       "      <td>147</td>\n",
       "      <td>296</td>\n",
       "      <td>2016-01-01</td>\n",
       "      <td>1053</td>\n",
       "      <td>77</td>\n",
       "      <td>2016</td>\n",
       "    </tr>\n",
       "    <tr>\n",
       "      <th>...</th>\n",
       "      <td>...</td>\n",
       "      <td>...</td>\n",
       "      <td>...</td>\n",
       "      <td>...</td>\n",
       "      <td>...</td>\n",
       "      <td>...</td>\n",
       "      <td>...</td>\n",
       "      <td>...</td>\n",
       "      <td>...</td>\n",
       "      <td>...</td>\n",
       "    </tr>\n",
       "    <tr>\n",
       "      <th>91160924</th>\n",
       "      <td>1.0</td>\n",
       "      <td>1740.0</td>\n",
       "      <td>21</td>\n",
       "      <td>134</td>\n",
       "      <td>141</td>\n",
       "      <td>270</td>\n",
       "      <td>2019-11-01</td>\n",
       "      <td>958</td>\n",
       "      <td>314</td>\n",
       "      <td>2019</td>\n",
       "    </tr>\n",
       "    <tr>\n",
       "      <th>91160925</th>\n",
       "      <td>1.0</td>\n",
       "      <td>1845.0</td>\n",
       "      <td>21</td>\n",
       "      <td>132</td>\n",
       "      <td>141</td>\n",
       "      <td>270</td>\n",
       "      <td>2019-11-01</td>\n",
       "      <td>961</td>\n",
       "      <td>393</td>\n",
       "      <td>2019</td>\n",
       "    </tr>\n",
       "    <tr>\n",
       "      <th>91160926</th>\n",
       "      <td>1.0</td>\n",
       "      <td>2099.0</td>\n",
       "      <td>21</td>\n",
       "      <td>132</td>\n",
       "      <td>141</td>\n",
       "      <td>270</td>\n",
       "      <td>2019-11-01</td>\n",
       "      <td>961</td>\n",
       "      <td>62</td>\n",
       "      <td>2019</td>\n",
       "    </tr>\n",
       "    <tr>\n",
       "      <th>91160927</th>\n",
       "      <td>1.0</td>\n",
       "      <td>1346.0</td>\n",
       "      <td>21</td>\n",
       "      <td>110</td>\n",
       "      <td>141</td>\n",
       "      <td>274</td>\n",
       "      <td>2019-11-01</td>\n",
       "      <td>990</td>\n",
       "      <td>209</td>\n",
       "      <td>2019</td>\n",
       "    </tr>\n",
       "    <tr>\n",
       "      <th>91160928</th>\n",
       "      <td>1.0</td>\n",
       "      <td>350.0</td>\n",
       "      <td>21</td>\n",
       "      <td>110</td>\n",
       "      <td>141</td>\n",
       "      <td>274</td>\n",
       "      <td>2019-11-01</td>\n",
       "      <td>991</td>\n",
       "      <td>172</td>\n",
       "      <td>2019</td>\n",
       "    </tr>\n",
       "  </tbody>\n",
       "</table>\n",
       "<p>91160929 rows × 10 columns</p>\n",
       "</div>"
      ],
      "text/plain": [
       "            u       v  Family  Category  Brand  Name        week   sku  store  \\\n",
       "0         1.0  1945.0      21       132    142   277  2016-01-01  1011    334   \n",
       "1         1.0   675.0      21       110    143   282  2016-01-01  1030     69   \n",
       "2         1.0  3249.0      21        35    145   288  2016-01-01  1045     52   \n",
       "3         1.0  1040.0      21       127    147   294  2016-01-01  1052      4   \n",
       "4         1.0  1640.0      21       127    147   296  2016-01-01  1053     77   \n",
       "...       ...     ...     ...       ...    ...   ...         ...   ...    ...   \n",
       "91160924  1.0  1740.0      21       134    141   270  2019-11-01   958    314   \n",
       "91160925  1.0  1845.0      21       132    141   270  2019-11-01   961    393   \n",
       "91160926  1.0  2099.0      21       132    141   270  2019-11-01   961     62   \n",
       "91160927  1.0  1346.0      21       110    141   274  2019-11-01   990    209   \n",
       "91160928  1.0   350.0      21       110    141   274  2019-11-01   991    172   \n",
       "\n",
       "          year  \n",
       "0         2016  \n",
       "1         2016  \n",
       "2         2016  \n",
       "3         2016  \n",
       "4         2016  \n",
       "...        ...  \n",
       "91160924  2019  \n",
       "91160925  2019  \n",
       "91160926  2019  \n",
       "91160927  2019  \n",
       "91160928  2019  \n",
       "\n",
       "[91160929 rows x 10 columns]"
      ]
     },
     "execution_count": 8,
     "metadata": {},
     "output_type": "execute_result"
    }
   ],
   "source": [
    "df"
   ]
  },
  {
   "cell_type": "code",
   "execution_count": 9,
   "metadata": {},
   "outputs": [],
   "source": [
    "df_dict = df[['Family','Category','Brand','Name','sku']].drop_duplicates()"
   ]
  },
  {
   "cell_type": "code",
   "execution_count": 11,
   "metadata": {
    "scrolled": true
   },
   "outputs": [],
   "source": [
    "years = [2016,2017,2018,2019]\n",
    "\n",
    "for i in years:\n",
    "    df_i = i +1 \n",
    "    "
   ]
  },
  {
   "cell_type": "code",
   "execution_count": 15,
   "metadata": {},
   "outputs": [],
   "source": [
    "#df_2016 = df[df['year']==\"2016\"]\n",
    "df_2017 = df[df['year']==\"2017\"]\n",
    "df_2018 = df[df['year']==\"2018\"]\n",
    "df_2019 = df[df['year']==\"2019\"]"
   ]
  },
  {
   "cell_type": "code",
   "execution_count": 16,
   "metadata": {},
   "outputs": [],
   "source": [
    "df_dict.to_csv(\"dict.csv\", index = False)"
   ]
  },
  {
   "cell_type": "code",
   "execution_count": 17,
   "metadata": {},
   "outputs": [],
   "source": [
    "df_2016.to_csv(\"2016.csv\", index = False)"
   ]
  },
  {
   "cell_type": "code",
   "execution_count": 18,
   "metadata": {},
   "outputs": [
    {
     "name": "stdout",
     "output_type": "stream",
     "text": [
      "Wall time: 1min 59s\n"
     ]
    }
   ],
   "source": [
    "%%time\n",
    "df_2017.to_csv(\"2017.csv\", index = False)"
   ]
  },
  {
   "cell_type": "code",
   "execution_count": 19,
   "metadata": {},
   "outputs": [],
   "source": [
    "df_2018.to_csv(\"2018.csv\", index = False)"
   ]
  },
  {
   "cell_type": "code",
   "execution_count": 20,
   "metadata": {},
   "outputs": [],
   "source": [
    "df_2019.to_csv(\"2019.csv\", index = False)"
   ]
  }
 ],
 "metadata": {
  "kernelspec": {
   "display_name": "Python 3",
   "language": "python",
   "name": "python3"
  },
  "language_info": {
   "codemirror_mode": {
    "name": "ipython",
    "version": 3
   },
   "file_extension": ".py",
   "mimetype": "text/x-python",
   "name": "python",
   "nbconvert_exporter": "python",
   "pygments_lexer": "ipython3",
   "version": "3.8.5"
  }
 },
 "nbformat": 4,
 "nbformat_minor": 4
}
