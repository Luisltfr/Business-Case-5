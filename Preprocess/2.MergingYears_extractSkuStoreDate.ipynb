{
 "cells": [
  {
   "cell_type": "code",
   "execution_count": 2,
   "metadata": {},
   "outputs": [],
   "source": [
    "import dask.dataframe as dd\n",
    "import datetime\n",
    "from collections import defaultdict\n",
    "import numpy as np\n",
    "import time\n",
    "import pandas as pd"
   ]
  },
  {
   "cell_type": "code",
   "execution_count": 7,
   "metadata": {},
   "outputs": [
    {
     "name": "stdout",
     "output_type": "stream",
     "text": [
      "Wall time: 2min 54s\n"
     ]
    }
   ],
   "source": [
    "%%time\n",
    "df_aa = pd.read_csv('161718_dropped.csv')"
   ]
  },
  {
   "cell_type": "code",
   "execution_count": 9,
   "metadata": {},
   "outputs": [],
   "source": [
    "df_bb = pd.read_csv('19_dropped.csv')"
   ]
  },
  {
   "cell_type": "code",
   "execution_count": 11,
   "metadata": {},
   "outputs": [],
   "source": [
    "#append 2 dfs\n",
    "df = df_aa.append(df_bb, ignore_index = True)"
   ]
  },
  {
   "cell_type": "code",
   "execution_count": 12,
   "metadata": {},
   "outputs": [],
   "source": [
    "df.to_csv('removed_duplicates.csv', index=False)"
   ]
  },
  {
   "cell_type": "code",
   "execution_count": null,
   "metadata": {},
   "outputs": [],
   "source": [
    "df['week_start'] = df['new'].astype(str).str[8]"
   ]
  },
  {
   "cell_type": "code",
   "execution_count": 4,
   "metadata": {},
   "outputs": [],
   "source": [
    "df = dd.read_csv('removed_duplicates.csv')"
   ]
  },
  {
   "cell_type": "code",
   "execution_count": 6,
   "metadata": {},
   "outputs": [
    {
     "data": {
      "text/html": [
       "<div>\n",
       "<style scoped>\n",
       "    .dataframe tbody tr th:only-of-type {\n",
       "        vertical-align: middle;\n",
       "    }\n",
       "\n",
       "    .dataframe tbody tr th {\n",
       "        vertical-align: top;\n",
       "    }\n",
       "\n",
       "    .dataframe thead th {\n",
       "        text-align: right;\n",
       "    }\n",
       "</style>\n",
       "<table border=\"1\" class=\"dataframe\">\n",
       "  <thead>\n",
       "    <tr style=\"text-align: right;\">\n",
       "      <th></th>\n",
       "      <th>new</th>\n",
       "      <th>u</th>\n",
       "      <th>v</th>\n",
       "      <th>Family</th>\n",
       "      <th>Category</th>\n",
       "      <th>Brand</th>\n",
       "      <th>Name</th>\n",
       "    </tr>\n",
       "  </thead>\n",
       "  <tbody>\n",
       "    <tr>\n",
       "      <th>0</th>\n",
       "      <td>2016-01-011011.334</td>\n",
       "      <td>1.0</td>\n",
       "      <td>1945.0</td>\n",
       "      <td>21</td>\n",
       "      <td>132</td>\n",
       "      <td>142</td>\n",
       "      <td>277</td>\n",
       "    </tr>\n",
       "    <tr>\n",
       "      <th>1</th>\n",
       "      <td>2016-01-011030.69</td>\n",
       "      <td>1.0</td>\n",
       "      <td>675.0</td>\n",
       "      <td>21</td>\n",
       "      <td>110</td>\n",
       "      <td>143</td>\n",
       "      <td>282</td>\n",
       "    </tr>\n",
       "    <tr>\n",
       "      <th>2</th>\n",
       "      <td>2016-01-011045.52</td>\n",
       "      <td>1.0</td>\n",
       "      <td>3249.0</td>\n",
       "      <td>21</td>\n",
       "      <td>35</td>\n",
       "      <td>145</td>\n",
       "      <td>288</td>\n",
       "    </tr>\n",
       "    <tr>\n",
       "      <th>3</th>\n",
       "      <td>2016-01-011052.4</td>\n",
       "      <td>1.0</td>\n",
       "      <td>1040.0</td>\n",
       "      <td>21</td>\n",
       "      <td>127</td>\n",
       "      <td>147</td>\n",
       "      <td>294</td>\n",
       "    </tr>\n",
       "    <tr>\n",
       "      <th>4</th>\n",
       "      <td>2016-01-011053.77</td>\n",
       "      <td>1.0</td>\n",
       "      <td>1640.0</td>\n",
       "      <td>21</td>\n",
       "      <td>127</td>\n",
       "      <td>147</td>\n",
       "      <td>296</td>\n",
       "    </tr>\n",
       "  </tbody>\n",
       "</table>\n",
       "</div>"
      ],
      "text/plain": [
       "                  new    u       v  Family  Category  Brand  Name\n",
       "0  2016-01-011011.334  1.0  1945.0      21       132    142   277\n",
       "1   2016-01-011030.69  1.0   675.0      21       110    143   282\n",
       "2   2016-01-011045.52  1.0  3249.0      21        35    145   288\n",
       "3    2016-01-011052.4  1.0  1040.0      21       127    147   294\n",
       "4   2016-01-011053.77  1.0  1640.0      21       127    147   296"
      ]
     },
     "execution_count": 6,
     "metadata": {},
     "output_type": "execute_result"
    }
   ],
   "source": [
    "df.head()"
   ]
  },
  {
   "cell_type": "code",
   "execution_count": 10,
   "metadata": {},
   "outputs": [],
   "source": [
    "#extract datetime sku and store from \"new\"\n",
    "df['week'] = df['new'].astype(str).str[:10]\n",
    "df['new_1'] = df['new'].str[10:]\n",
    "df[['sku','store']] = df['new_1'].str.split('.',expand=True, n=1)\n",
    "#drop unneeded columns\n",
    "df = df.drop(columns=['new','new_1'])\n",
    "#convert types\n",
    "df['sku'] = df.sku.astype(int)\n",
    "df['store'] = df.store.astype(int)"
   ]
  },
  {
   "cell_type": "code",
   "execution_count": 26,
   "metadata": {},
   "outputs": [
    {
     "data": {
      "text/html": [
       "<div>\n",
       "<style scoped>\n",
       "    .dataframe tbody tr th:only-of-type {\n",
       "        vertical-align: middle;\n",
       "    }\n",
       "\n",
       "    .dataframe tbody tr th {\n",
       "        vertical-align: top;\n",
       "    }\n",
       "\n",
       "    .dataframe thead th {\n",
       "        text-align: right;\n",
       "    }\n",
       "</style>\n",
       "<table border=\"1\" class=\"dataframe\">\n",
       "  <thead>\n",
       "    <tr style=\"text-align: right;\">\n",
       "      <th></th>\n",
       "      <th>u</th>\n",
       "      <th>v</th>\n",
       "      <th>Family</th>\n",
       "      <th>Category</th>\n",
       "      <th>Brand</th>\n",
       "      <th>Name</th>\n",
       "      <th>week</th>\n",
       "      <th>sku</th>\n",
       "      <th>store</th>\n",
       "    </tr>\n",
       "  </thead>\n",
       "  <tbody>\n",
       "    <tr>\n",
       "      <th>0</th>\n",
       "      <td>1.0</td>\n",
       "      <td>1945.0</td>\n",
       "      <td>21</td>\n",
       "      <td>132</td>\n",
       "      <td>142</td>\n",
       "      <td>277</td>\n",
       "      <td>2016-01-01</td>\n",
       "      <td>1011</td>\n",
       "      <td>334</td>\n",
       "    </tr>\n",
       "    <tr>\n",
       "      <th>1</th>\n",
       "      <td>1.0</td>\n",
       "      <td>675.0</td>\n",
       "      <td>21</td>\n",
       "      <td>110</td>\n",
       "      <td>143</td>\n",
       "      <td>282</td>\n",
       "      <td>2016-01-01</td>\n",
       "      <td>1030</td>\n",
       "      <td>69</td>\n",
       "    </tr>\n",
       "    <tr>\n",
       "      <th>2</th>\n",
       "      <td>1.0</td>\n",
       "      <td>3249.0</td>\n",
       "      <td>21</td>\n",
       "      <td>35</td>\n",
       "      <td>145</td>\n",
       "      <td>288</td>\n",
       "      <td>2016-01-01</td>\n",
       "      <td>1045</td>\n",
       "      <td>52</td>\n",
       "    </tr>\n",
       "    <tr>\n",
       "      <th>3</th>\n",
       "      <td>1.0</td>\n",
       "      <td>1040.0</td>\n",
       "      <td>21</td>\n",
       "      <td>127</td>\n",
       "      <td>147</td>\n",
       "      <td>294</td>\n",
       "      <td>2016-01-01</td>\n",
       "      <td>1052</td>\n",
       "      <td>4</td>\n",
       "    </tr>\n",
       "    <tr>\n",
       "      <th>4</th>\n",
       "      <td>1.0</td>\n",
       "      <td>1640.0</td>\n",
       "      <td>21</td>\n",
       "      <td>127</td>\n",
       "      <td>147</td>\n",
       "      <td>296</td>\n",
       "      <td>2016-01-01</td>\n",
       "      <td>1053</td>\n",
       "      <td>77</td>\n",
       "    </tr>\n",
       "  </tbody>\n",
       "</table>\n",
       "</div>"
      ],
      "text/plain": [
       "     u       v  Family  Category  Brand  Name        week   sku  store\n",
       "0  1.0  1945.0      21       132    142   277  2016-01-01  1011    334\n",
       "1  1.0   675.0      21       110    143   282  2016-01-01  1030     69\n",
       "2  1.0  3249.0      21        35    145   288  2016-01-01  1045     52\n",
       "3  1.0  1040.0      21       127    147   294  2016-01-01  1052      4\n",
       "4  1.0  1640.0      21       127    147   296  2016-01-01  1053     77"
      ]
     },
     "execution_count": 26,
     "metadata": {},
     "output_type": "execute_result"
    }
   ],
   "source": [
    "df.head()"
   ]
  },
  {
   "cell_type": "code",
   "execution_count": 28,
   "metadata": {
    "scrolled": true
   },
   "outputs": [
    {
     "data": {
      "text/plain": [
       "['C:/Users/saram/Google Drive/Sara/Master/2nd Semester/BusinessCases/Project5/data_final.csv\\\\00.part',\n",
       " 'C:/Users/saram/Google Drive/Sara/Master/2nd Semester/BusinessCases/Project5/data_final.csv\\\\01.part',\n",
       " 'C:/Users/saram/Google Drive/Sara/Master/2nd Semester/BusinessCases/Project5/data_final.csv\\\\02.part',\n",
       " 'C:/Users/saram/Google Drive/Sara/Master/2nd Semester/BusinessCases/Project5/data_final.csv\\\\03.part',\n",
       " 'C:/Users/saram/Google Drive/Sara/Master/2nd Semester/BusinessCases/Project5/data_final.csv\\\\04.part',\n",
       " 'C:/Users/saram/Google Drive/Sara/Master/2nd Semester/BusinessCases/Project5/data_final.csv\\\\05.part',\n",
       " 'C:/Users/saram/Google Drive/Sara/Master/2nd Semester/BusinessCases/Project5/data_final.csv\\\\06.part',\n",
       " 'C:/Users/saram/Google Drive/Sara/Master/2nd Semester/BusinessCases/Project5/data_final.csv\\\\07.part',\n",
       " 'C:/Users/saram/Google Drive/Sara/Master/2nd Semester/BusinessCases/Project5/data_final.csv\\\\08.part',\n",
       " 'C:/Users/saram/Google Drive/Sara/Master/2nd Semester/BusinessCases/Project5/data_final.csv\\\\09.part',\n",
       " 'C:/Users/saram/Google Drive/Sara/Master/2nd Semester/BusinessCases/Project5/data_final.csv\\\\10.part',\n",
       " 'C:/Users/saram/Google Drive/Sara/Master/2nd Semester/BusinessCases/Project5/data_final.csv\\\\11.part',\n",
       " 'C:/Users/saram/Google Drive/Sara/Master/2nd Semester/BusinessCases/Project5/data_final.csv\\\\12.part',\n",
       " 'C:/Users/saram/Google Drive/Sara/Master/2nd Semester/BusinessCases/Project5/data_final.csv\\\\13.part',\n",
       " 'C:/Users/saram/Google Drive/Sara/Master/2nd Semester/BusinessCases/Project5/data_final.csv\\\\14.part',\n",
       " 'C:/Users/saram/Google Drive/Sara/Master/2nd Semester/BusinessCases/Project5/data_final.csv\\\\15.part',\n",
       " 'C:/Users/saram/Google Drive/Sara/Master/2nd Semester/BusinessCases/Project5/data_final.csv\\\\16.part',\n",
       " 'C:/Users/saram/Google Drive/Sara/Master/2nd Semester/BusinessCases/Project5/data_final.csv\\\\17.part',\n",
       " 'C:/Users/saram/Google Drive/Sara/Master/2nd Semester/BusinessCases/Project5/data_final.csv\\\\18.part',\n",
       " 'C:/Users/saram/Google Drive/Sara/Master/2nd Semester/BusinessCases/Project5/data_final.csv\\\\19.part',\n",
       " 'C:/Users/saram/Google Drive/Sara/Master/2nd Semester/BusinessCases/Project5/data_final.csv\\\\20.part',\n",
       " 'C:/Users/saram/Google Drive/Sara/Master/2nd Semester/BusinessCases/Project5/data_final.csv\\\\21.part',\n",
       " 'C:/Users/saram/Google Drive/Sara/Master/2nd Semester/BusinessCases/Project5/data_final.csv\\\\22.part',\n",
       " 'C:/Users/saram/Google Drive/Sara/Master/2nd Semester/BusinessCases/Project5/data_final.csv\\\\23.part',\n",
       " 'C:/Users/saram/Google Drive/Sara/Master/2nd Semester/BusinessCases/Project5/data_final.csv\\\\24.part',\n",
       " 'C:/Users/saram/Google Drive/Sara/Master/2nd Semester/BusinessCases/Project5/data_final.csv\\\\25.part',\n",
       " 'C:/Users/saram/Google Drive/Sara/Master/2nd Semester/BusinessCases/Project5/data_final.csv\\\\26.part',\n",
       " 'C:/Users/saram/Google Drive/Sara/Master/2nd Semester/BusinessCases/Project5/data_final.csv\\\\27.part',\n",
       " 'C:/Users/saram/Google Drive/Sara/Master/2nd Semester/BusinessCases/Project5/data_final.csv\\\\28.part',\n",
       " 'C:/Users/saram/Google Drive/Sara/Master/2nd Semester/BusinessCases/Project5/data_final.csv\\\\29.part',\n",
       " 'C:/Users/saram/Google Drive/Sara/Master/2nd Semester/BusinessCases/Project5/data_final.csv\\\\30.part',\n",
       " 'C:/Users/saram/Google Drive/Sara/Master/2nd Semester/BusinessCases/Project5/data_final.csv\\\\31.part',\n",
       " 'C:/Users/saram/Google Drive/Sara/Master/2nd Semester/BusinessCases/Project5/data_final.csv\\\\32.part',\n",
       " 'C:/Users/saram/Google Drive/Sara/Master/2nd Semester/BusinessCases/Project5/data_final.csv\\\\33.part',\n",
       " 'C:/Users/saram/Google Drive/Sara/Master/2nd Semester/BusinessCases/Project5/data_final.csv\\\\34.part',\n",
       " 'C:/Users/saram/Google Drive/Sara/Master/2nd Semester/BusinessCases/Project5/data_final.csv\\\\35.part',\n",
       " 'C:/Users/saram/Google Drive/Sara/Master/2nd Semester/BusinessCases/Project5/data_final.csv\\\\36.part',\n",
       " 'C:/Users/saram/Google Drive/Sara/Master/2nd Semester/BusinessCases/Project5/data_final.csv\\\\37.part',\n",
       " 'C:/Users/saram/Google Drive/Sara/Master/2nd Semester/BusinessCases/Project5/data_final.csv\\\\38.part',\n",
       " 'C:/Users/saram/Google Drive/Sara/Master/2nd Semester/BusinessCases/Project5/data_final.csv\\\\39.part',\n",
       " 'C:/Users/saram/Google Drive/Sara/Master/2nd Semester/BusinessCases/Project5/data_final.csv\\\\40.part',\n",
       " 'C:/Users/saram/Google Drive/Sara/Master/2nd Semester/BusinessCases/Project5/data_final.csv\\\\41.part',\n",
       " 'C:/Users/saram/Google Drive/Sara/Master/2nd Semester/BusinessCases/Project5/data_final.csv\\\\42.part',\n",
       " 'C:/Users/saram/Google Drive/Sara/Master/2nd Semester/BusinessCases/Project5/data_final.csv\\\\43.part',\n",
       " 'C:/Users/saram/Google Drive/Sara/Master/2nd Semester/BusinessCases/Project5/data_final.csv\\\\44.part',\n",
       " 'C:/Users/saram/Google Drive/Sara/Master/2nd Semester/BusinessCases/Project5/data_final.csv\\\\45.part',\n",
       " 'C:/Users/saram/Google Drive/Sara/Master/2nd Semester/BusinessCases/Project5/data_final.csv\\\\46.part',\n",
       " 'C:/Users/saram/Google Drive/Sara/Master/2nd Semester/BusinessCases/Project5/data_final.csv\\\\47.part',\n",
       " 'C:/Users/saram/Google Drive/Sara/Master/2nd Semester/BusinessCases/Project5/data_final.csv\\\\48.part',\n",
       " 'C:/Users/saram/Google Drive/Sara/Master/2nd Semester/BusinessCases/Project5/data_final.csv\\\\49.part',\n",
       " 'C:/Users/saram/Google Drive/Sara/Master/2nd Semester/BusinessCases/Project5/data_final.csv\\\\50.part',\n",
       " 'C:/Users/saram/Google Drive/Sara/Master/2nd Semester/BusinessCases/Project5/data_final.csv\\\\51.part',\n",
       " 'C:/Users/saram/Google Drive/Sara/Master/2nd Semester/BusinessCases/Project5/data_final.csv\\\\52.part',\n",
       " 'C:/Users/saram/Google Drive/Sara/Master/2nd Semester/BusinessCases/Project5/data_final.csv\\\\53.part',\n",
       " 'C:/Users/saram/Google Drive/Sara/Master/2nd Semester/BusinessCases/Project5/data_final.csv\\\\54.part',\n",
       " 'C:/Users/saram/Google Drive/Sara/Master/2nd Semester/BusinessCases/Project5/data_final.csv\\\\55.part',\n",
       " 'C:/Users/saram/Google Drive/Sara/Master/2nd Semester/BusinessCases/Project5/data_final.csv\\\\56.part',\n",
       " 'C:/Users/saram/Google Drive/Sara/Master/2nd Semester/BusinessCases/Project5/data_final.csv\\\\57.part',\n",
       " 'C:/Users/saram/Google Drive/Sara/Master/2nd Semester/BusinessCases/Project5/data_final.csv\\\\58.part',\n",
       " 'C:/Users/saram/Google Drive/Sara/Master/2nd Semester/BusinessCases/Project5/data_final.csv\\\\59.part',\n",
       " 'C:/Users/saram/Google Drive/Sara/Master/2nd Semester/BusinessCases/Project5/data_final.csv\\\\60.part',\n",
       " 'C:/Users/saram/Google Drive/Sara/Master/2nd Semester/BusinessCases/Project5/data_final.csv\\\\61.part',\n",
       " 'C:/Users/saram/Google Drive/Sara/Master/2nd Semester/BusinessCases/Project5/data_final.csv\\\\62.part',\n",
       " 'C:/Users/saram/Google Drive/Sara/Master/2nd Semester/BusinessCases/Project5/data_final.csv\\\\63.part',\n",
       " 'C:/Users/saram/Google Drive/Sara/Master/2nd Semester/BusinessCases/Project5/data_final.csv\\\\64.part']"
      ]
     },
     "execution_count": 28,
     "metadata": {},
     "output_type": "execute_result"
    }
   ],
   "source": [
    "#dask to csv\n",
    "df.to_csv('data_final.csv',index=False)"
   ]
  },
  {
   "cell_type": "code",
   "execution_count": 29,
   "metadata": {},
   "outputs": [],
   "source": [
    "df = df.compute()"
   ]
  },
  {
   "cell_type": "code",
   "execution_count": 30,
   "metadata": {},
   "outputs": [],
   "source": [
    "#pandas to csv\n",
    "df.to_csv('df_f.csv', index = False)"
   ]
  }
 ],
 "metadata": {
  "kernelspec": {
   "display_name": "Python 3",
   "language": "python",
   "name": "python3"
  },
  "language_info": {
   "codemirror_mode": {
    "name": "ipython",
    "version": 3
   },
   "file_extension": ".py",
   "mimetype": "text/x-python",
   "name": "python",
   "nbconvert_exporter": "python",
   "pygments_lexer": "ipython3",
   "version": "3.8.5"
  }
 },
 "nbformat": 4,
 "nbformat_minor": 4
}
