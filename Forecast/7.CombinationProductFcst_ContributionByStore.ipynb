{
 "cells": [
  {
   "cell_type": "code",
   "execution_count": 1,
   "metadata": {},
   "outputs": [],
   "source": [
    "import datetime\n",
    "from collections import defaultdict\n",
    "import numpy as np\n",
    "import time\n",
    "import pandas as pd\n",
    "import warnings\n",
    "warnings.filterwarnings('ignore')"
   ]
  },
  {
   "cell_type": "code",
   "execution_count": 2,
   "metadata": {},
   "outputs": [],
   "source": [
    "df_18 = pd.read_csv('2018.csv')\n",
    "df_19 = pd.read_csv('2019.csv')"
   ]
  },
  {
   "cell_type": "code",
   "execution_count": 3,
   "metadata": {
    "scrolled": true
   },
   "outputs": [],
   "source": [
    "##extract data for the contribution of each product per store in next 4 weeks last year\n",
    "format='%Y-%m-%d'\n",
    "df_18.drop(columns=['Brand','Category','sku', 'Family'], inplace = True)\n",
    "df_18['date'] = pd.to_datetime(df_18['week'], format='%Y-%m-%d')\n",
    "df_18['week'] = df_18['date'].dt.week\n",
    "df_18['year'] = df_18['date'].dt.year\n",
    "df_18.drop(columns=['date'], inplace = True)\n",
    "g18 = df_18.groupby(['store','Name','year','week']).sum()\n",
    "g18.reset_index(inplace = True)\n",
    "\n",
    "LY4W = g18[g18['week'].isin([46,47,48,49,50])].drop(['  v','year','week'], axis = 1)\n",
    "LY4W = LY4W.groupby(['store','Name']).sum()"
   ]
  },
  {
   "cell_type": "code",
   "execution_count": 4,
   "metadata": {
    "scrolled": true
   },
   "outputs": [],
   "source": [
    "LY4W.head(2)"
   ]
  },
  {
   "cell_type": "code",
   "execution_count": 5,
   "metadata": {
    "scrolled": true
   },
   "outputs": [],
   "source": [
    "#extract data for the contribution of each product per store in last four weeks before the forecast\n",
    "format='%Y-%m-%d'\n",
    "df_19.drop(columns=['Brand','Category','sku', 'Family'], inplace = True)\n",
    "df_19['date'] = pd.to_datetime(df_19['week'], format='%Y-%m-%d')\n",
    "df_19['week'] = df_19['date'].dt.week\n",
    "df_19['year'] = df_19['date'].dt.year\n",
    "df_19.drop(columns=['date'], inplace = True)\n",
    "g19 = df_19.groupby(['store','Name','year','week']).sum()\n",
    "g19.reset_index(inplace = True)\n",
    "\n",
    "TYL4W = g19[g19['week'].isin([41,42,43,44,45])].drop(['  v','year','week'], axis = 1)\n",
    "TYL4W = TYL4W.groupby(['store','Name']).sum()"
   ]
  },
  {
   "cell_type": "code",
   "execution_count": 6,
   "metadata": {},
   "outputs": [],
   "source": [
    "TY4W.head(2)"
   ]
  },
  {
   "cell_type": "code",
   "execution_count": 7,
   "metadata": {},
   "outputs": [],
   "source": [
    "#calculate contribution name-store combination LY next 4 weeks\n",
    "LY = LY4W.groupby(['store','Name']).agg({'  u':['sum']})\n",
    "LY = LY.groupby(level=0).apply(lambda x:100 * x / float(x.sum()))\n",
    "LY.columns = LY.columns.droplevel(1)"
   ]
  },
  {
   "cell_type": "code",
   "execution_count": 8,
   "metadata": {},
   "outputs": [],
   "source": [
    "#calculate contribution name-store combination TY last 4 weeks\n",
    "TY = TYL4W.groupby(['store','Name']).agg({'  u':['sum']})\n",
    "TY = TY.groupby(level=0).apply(lambda x:100 * x / float(x.sum()))\n",
    "TY.columns = TY.columns.droplevel(1)"
   ]
  },
  {
   "cell_type": "code",
   "execution_count": 9,
   "metadata": {},
   "outputs": [],
   "source": [
    "#merge 2 contributions and compute average\n",
    "merge = TY.merge(LY, left_index = True, right_index = True, how = 'left')\n",
    "merge['avg']= merge.mean(axis=1)\n",
    "merge = merge.drop(columns = ['  u_x', '  u_y'])\n",
    "merge.reset_index(inplace = True)\n",
    "merge['Name'] = merge['Name'].astype(str)"
   ]
  },
  {
   "cell_type": "code",
   "execution_count": 10,
   "metadata": {},
   "outputs": [],
   "source": [
    "#name forecast next 6 weeks\n",
    "fcst = pd.read_csv('fcst/name_predictions.csv')"
   ]
  },
  {
   "cell_type": "code",
   "execution_count": 11,
   "metadata": {},
   "outputs": [],
   "source": [
    "fcst['week'] = fcst['Unnamed: 0']\n",
    "fcst.drop('Unnamed: 0', axis=1, inplace = True)\n",
    "#first 6 weeks of fcst\n",
    "fcst = fcst[:5]"
   ]
  },
  {
   "cell_type": "code",
   "execution_count": 12,
   "metadata": {},
   "outputs": [],
   "source": [
    "#unpivot and sum forecast\n",
    "df_fcst = pd.melt(fcst, id_vars=['week'], var_name='Name', value_name='fcst')\n",
    "df_fcst.drop('week', axis =1, inplace = True)\n",
    "df_fcst = df_fcst.groupby(['Name']).sum()"
   ]
  },
  {
   "cell_type": "code",
   "execution_count": 13,
   "metadata": {},
   "outputs": [],
   "source": [
    "fcst_zero_name = df_fcst[df_fcst['fcst']==0]\n",
    "fcst_name = df_fcst.loc[df_fcst.ne(0).all(axis=1)]"
   ]
  },
  {
   "cell_type": "code",
   "execution_count": 15,
   "metadata": {},
   "outputs": [
    {
     "data": {
      "text/html": [
       "<div>\n",
       "<style scoped>\n",
       "    .dataframe tbody tr th:only-of-type {\n",
       "        vertical-align: middle;\n",
       "    }\n",
       "\n",
       "    .dataframe tbody tr th {\n",
       "        vertical-align: top;\n",
       "    }\n",
       "\n",
       "    .dataframe thead th {\n",
       "        text-align: right;\n",
       "    }\n",
       "</style>\n",
       "<table border=\"1\" class=\"dataframe\">\n",
       "  <thead>\n",
       "    <tr style=\"text-align: right;\">\n",
       "      <th></th>\n",
       "      <th>fcst</th>\n",
       "    </tr>\n",
       "    <tr>\n",
       "      <th>Name</th>\n",
       "      <th></th>\n",
       "    </tr>\n",
       "  </thead>\n",
       "  <tbody>\n",
       "    <tr>\n",
       "      <th>1004</th>\n",
       "      <td>2997.479184</td>\n",
       "    </tr>\n",
       "    <tr>\n",
       "      <th>1006</th>\n",
       "      <td>2250.519646</td>\n",
       "    </tr>\n",
       "  </tbody>\n",
       "</table>\n",
       "</div>"
      ],
      "text/plain": [
       "             fcst\n",
       "Name             \n",
       "1004  2997.479184\n",
       "1006  2250.519646"
      ]
     },
     "execution_count": 15,
     "metadata": {},
     "output_type": "execute_result"
    }
   ],
   "source": [
    "fcst_name.head(2)"
   ]
  },
  {
   "cell_type": "code",
   "execution_count": 19,
   "metadata": {
    "scrolled": true
   },
   "outputs": [],
   "source": [
    "#merge contribution average store-name and forecast by name\n",
    "df = merge.merge(fcst_name, left_on = 'Name', right_index = True, how = 'inner')"
   ]
  },
  {
   "cell_type": "code",
   "execution_count": 20,
   "metadata": {},
   "outputs": [],
   "source": [
    "#compute forecast\n",
    "df['fcst_store'] = df['fcst']*df['avg']"
   ]
  },
  {
   "cell_type": "code",
   "execution_count": 21,
   "metadata": {
    "scrolled": false
   },
   "outputs": [
    {
     "data": {
      "text/html": [
       "<div>\n",
       "<style scoped>\n",
       "    .dataframe tbody tr th:only-of-type {\n",
       "        vertical-align: middle;\n",
       "    }\n",
       "\n",
       "    .dataframe tbody tr th {\n",
       "        vertical-align: top;\n",
       "    }\n",
       "\n",
       "    .dataframe thead th {\n",
       "        text-align: right;\n",
       "    }\n",
       "</style>\n",
       "<table border=\"1\" class=\"dataframe\">\n",
       "  <thead>\n",
       "    <tr style=\"text-align: right;\">\n",
       "      <th></th>\n",
       "      <th>store</th>\n",
       "      <th>Name</th>\n",
       "      <th>avg</th>\n",
       "      <th>fcst</th>\n",
       "      <th>fcst_store</th>\n",
       "    </tr>\n",
       "  </thead>\n",
       "  <tbody>\n",
       "    <tr>\n",
       "      <th>0</th>\n",
       "      <td>1</td>\n",
       "      <td>14</td>\n",
       "      <td>0.149862</td>\n",
       "      <td>5790.502818</td>\n",
       "      <td>867.773657</td>\n",
       "    </tr>\n",
       "    <tr>\n",
       "      <th>500</th>\n",
       "      <td>2</td>\n",
       "      <td>14</td>\n",
       "      <td>0.029169</td>\n",
       "      <td>5790.502818</td>\n",
       "      <td>168.901093</td>\n",
       "    </tr>\n",
       "    <tr>\n",
       "      <th>982</th>\n",
       "      <td>3</td>\n",
       "      <td>14</td>\n",
       "      <td>0.037962</td>\n",
       "      <td>5790.502818</td>\n",
       "      <td>219.818014</td>\n",
       "    </tr>\n",
       "    <tr>\n",
       "      <th>1583</th>\n",
       "      <td>4</td>\n",
       "      <td>14</td>\n",
       "      <td>0.054153</td>\n",
       "      <td>5790.502818</td>\n",
       "      <td>313.573148</td>\n",
       "    </tr>\n",
       "    <tr>\n",
       "      <th>2309</th>\n",
       "      <td>5</td>\n",
       "      <td>14</td>\n",
       "      <td>0.011606</td>\n",
       "      <td>5790.502818</td>\n",
       "      <td>67.206393</td>\n",
       "    </tr>\n",
       "  </tbody>\n",
       "</table>\n",
       "</div>"
      ],
      "text/plain": [
       "      store Name       avg         fcst  fcst_store\n",
       "0         1   14  0.149862  5790.502818  867.773657\n",
       "500       2   14  0.029169  5790.502818  168.901093\n",
       "982       3   14  0.037962  5790.502818  219.818014\n",
       "1583      4   14  0.054153  5790.502818  313.573148\n",
       "2309      5   14  0.011606  5790.502818   67.206393"
      ]
     },
     "execution_count": 21,
     "metadata": {},
     "output_type": "execute_result"
    }
   ],
   "source": [
    "df.head()"
   ]
  },
  {
   "cell_type": "markdown",
   "metadata": {},
   "source": [
    "#### Create list of combination store-name that don't have a fcst at name level"
   ]
  },
  {
   "cell_type": "code",
   "execution_count": 22,
   "metadata": {},
   "outputs": [],
   "source": [
    "df['concat'] = df['store'].astype(str)+df['Name'].astype(str)"
   ]
  },
  {
   "cell_type": "code",
   "execution_count": 23,
   "metadata": {},
   "outputs": [],
   "source": [
    "no_fcst_list = fcst_zero_name.index.tolist()"
   ]
  },
  {
   "cell_type": "code",
   "execution_count": 24,
   "metadata": {},
   "outputs": [],
   "source": [
    "dictionary = pd.read_csv('fcst/name_dictionary.csv')"
   ]
  },
  {
   "cell_type": "code",
   "execution_count": 25,
   "metadata": {},
   "outputs": [],
   "source": [
    "dict_0 = dictionary[dictionary['Name'].isin(no_fcst_list)]"
   ]
  },
  {
   "cell_type": "code",
   "execution_count": 26,
   "metadata": {
    "scrolled": true
   },
   "outputs": [
    {
     "data": {
      "text/plain": [
       "178    518\n",
       "109    245\n",
       "22     118\n",
       "34      92\n",
       "127     89\n",
       "      ... \n",
       "58       1\n",
       "52       1\n",
       "107      1\n",
       "45       1\n",
       "79       1\n",
       "Name: Category, Length: 149, dtype: int64"
      ]
     },
     "execution_count": 26,
     "metadata": {},
     "output_type": "execute_result"
    }
   ],
   "source": [
    "dict_0['Category'].value_counts()"
   ]
  },
  {
   "cell_type": "markdown",
   "metadata": {},
   "source": [
    "When there is no Name fcst we will use the % growth from the category fcst and apply it to every Name."
   ]
  },
  {
   "cell_type": "code",
   "execution_count": 27,
   "metadata": {},
   "outputs": [],
   "source": [
    "cat_fcst = pd.read_csv('fcst/category_predictions.csv')"
   ]
  },
  {
   "cell_type": "markdown",
   "metadata": {},
   "source": [
    "same as before but with category"
   ]
  },
  {
   "cell_type": "code",
   "execution_count": 29,
   "metadata": {},
   "outputs": [],
   "source": [
    "df_19 = pd.read_csv('2019.csv')\n",
    "format='%Y-%m-%d'\n",
    "df_19.drop(columns=['Brand','Name','sku', 'Family','store'], inplace = True)\n",
    "df_19['date'] = pd.to_datetime(df_19['week'], format='%Y-%m-%d')\n",
    "df_19['week'] = df_19['date'].dt.week\n",
    "df_19['year'] = df_19['date'].dt.year\n",
    "df_19.drop(columns=['date'], inplace = True)\n",
    "g19 = df_19.groupby(['Category','year','week']).sum()\n",
    "g19.reset_index(inplace = True)\n",
    "\n",
    "g19 = g19[g19['week'].isin([41,42,43,44])]\n",
    "g19 = g19.drop(columns = ['year','week', '  v'])\n",
    "g19 = g19.groupby(['Category']).mean()\n",
    "g19.index = g19.index.map(str)"
   ]
  },
  {
   "cell_type": "code",
   "execution_count": 31,
   "metadata": {},
   "outputs": [],
   "source": [
    "cat_fcst['week'] = cat_fcst['Unnamed: 0']\n",
    "cat_fcst.drop('Unnamed: 0', axis=1, inplace = True)\n",
    "#first 6 weeks of fcst\n",
    "cat_fcst = cat_fcst[:6]\n",
    "#unpivot columns and check average sold per category in the last 6 weeks of 2019\n",
    "cat_fcst = pd.melt(cat_fcst, id_vars=['week'], var_name='Category', value_name='fcst')\n",
    "cat_fcst.drop('week', axis =1, inplace = True)\n",
    "cat_fcst = cat_fcst.groupby(['Category']).mean()"
   ]
  },
  {
   "cell_type": "code",
   "execution_count": 32,
   "metadata": {},
   "outputs": [],
   "source": [
    "#merge 2019 category data with fcst category and calculate growth of the category\n",
    "merge_cat = cat_fcst.merge(g19, left_index = True, right_index = True)\n",
    "merge_cat = merge_cat[merge_cat.fcst.notnull()]\n",
    "merge_cat.columns = ['fcst','u']\n",
    "merge_cat['growth_cat'] = merge_cat['fcst']/merge_cat['u']-1"
   ]
  },
  {
   "cell_type": "code",
   "execution_count": 33,
   "metadata": {},
   "outputs": [
    {
     "data": {
      "text/html": [
       "<div>\n",
       "<style scoped>\n",
       "    .dataframe tbody tr th:only-of-type {\n",
       "        vertical-align: middle;\n",
       "    }\n",
       "\n",
       "    .dataframe tbody tr th {\n",
       "        vertical-align: top;\n",
       "    }\n",
       "\n",
       "    .dataframe thead th {\n",
       "        text-align: right;\n",
       "    }\n",
       "</style>\n",
       "<table border=\"1\" class=\"dataframe\">\n",
       "  <thead>\n",
       "    <tr style=\"text-align: right;\">\n",
       "      <th></th>\n",
       "      <th>fcst</th>\n",
       "      <th>u</th>\n",
       "      <th>growth_cat</th>\n",
       "    </tr>\n",
       "    <tr>\n",
       "      <th>Category</th>\n",
       "      <th></th>\n",
       "      <th></th>\n",
       "      <th></th>\n",
       "    </tr>\n",
       "  </thead>\n",
       "  <tbody>\n",
       "    <tr>\n",
       "      <th>1</th>\n",
       "      <td>7383.903337</td>\n",
       "      <td>5727.250</td>\n",
       "      <td>0.289258</td>\n",
       "    </tr>\n",
       "    <tr>\n",
       "      <th>10</th>\n",
       "      <td>6318.127155</td>\n",
       "      <td>5105.250</td>\n",
       "      <td>0.237574</td>\n",
       "    </tr>\n",
       "    <tr>\n",
       "      <th>109</th>\n",
       "      <td>6606.665126</td>\n",
       "      <td>5494.625</td>\n",
       "      <td>0.202387</td>\n",
       "    </tr>\n",
       "  </tbody>\n",
       "</table>\n",
       "</div>"
      ],
      "text/plain": [
       "                 fcst         u  growth_cat\n",
       "Category                                   \n",
       "1         7383.903337  5727.250    0.289258\n",
       "10        6318.127155  5105.250    0.237574\n",
       "109       6606.665126  5494.625    0.202387"
      ]
     },
     "execution_count": 33,
     "metadata": {},
     "output_type": "execute_result"
    }
   ],
   "source": [
    "merge_cat.head(3)"
   ]
  },
  {
   "cell_type": "code",
   "execution_count": 34,
   "metadata": {
    "scrolled": true
   },
   "outputs": [],
   "source": [
    "#anything that didn't have a name fcst, here we check the category they are associated with\n",
    "dict_0['Name'] = dict_0['Name'].astype(str)\n",
    "\n",
    "fcst_zero = fcst_zero_name.merge(dict_0, left_index = True, right_on = 'Name')\n",
    "\n",
    "fcst_zero['Category'] = fcst_zero['Category'].astype(str)\n",
    "merge_cat.index = merge_cat.index.map(str)\n",
    "\n",
    "df_cat = fcst_zero.merge(merge_cat, left_on = 'Category', right_index = True)"
   ]
  },
  {
   "cell_type": "code",
   "execution_count": 35,
   "metadata": {},
   "outputs": [],
   "source": [
    "#re-do name-store extract data \n",
    "df_19 = pd.read_csv('2019.csv')\n",
    "format='%Y-%m-%d'\n",
    "df_19.drop(columns=['Brand','Category','sku', 'Family'], inplace = True)\n",
    "df_19['date'] = pd.to_datetime(df_19['week'], format='%Y-%m-%d')\n",
    "df_19['week'] = df_19['date'].dt.week\n",
    "df_19['year'] = df_19['date'].dt.year\n",
    "df_19.drop(columns=['date'], inplace = True)\n",
    "g19 = df_19.groupby(['store','Name','year','week']).sum()\n",
    "g19.reset_index(inplace = True)"
   ]
  },
  {
   "cell_type": "code",
   "execution_count": 40,
   "metadata": {},
   "outputs": [],
   "source": [
    "#2019 data to fcst at name level\n",
    "TYL4W = g19[g19['week'].isin([41,42,43,44,45])].drop(['  v','year','week'], axis = 1)\n",
    "TYL4W = TYL4W.groupby(['store','Name']).mean()\n",
    "TYL4W.reset_index(inplace = True)\n",
    "TYL4W['concat'] = TYL4W['store'].astype(str)+TYL4W['Name'].astype(str)"
   ]
  },
  {
   "cell_type": "code",
   "execution_count": 36,
   "metadata": {
    "scrolled": true
   },
   "outputs": [],
   "source": [
    "df_final_cat = df.merge(df_cat, left_on = 'Name', right_on = 'Name', how='inner')"
   ]
  },
  {
   "cell_type": "code",
   "execution_count": 37,
   "metadata": {
    "scrolled": true
   },
   "outputs": [],
   "source": [
    "df.reset_index(inplace = True)\n",
    "df_final_cat.reset_index(inplace = True)"
   ]
  },
  {
   "cell_type": "code",
   "execution_count": 38,
   "metadata": {},
   "outputs": [],
   "source": [
    "#excluding the names that got a fcst already from before\n",
    "df_final_cat = df_final_cat[~df_final_cat.concat.isin(df.concat)]\n",
    "df_final_cat = merge.merge(df_cat, left_on = 'Name', right_on = 'Name', how = 'inner')\n",
    "df_final_cat['concat'] = df_final_cat['store'].astype(str)+df_final_cat['Name'].astype(str)"
   ]
  },
  {
   "cell_type": "code",
   "execution_count": 39,
   "metadata": {},
   "outputs": [],
   "source": [
    "df.reset_index(inplace = True)\n",
    "df_final_cat.reset_index(inplace = True)"
   ]
  },
  {
   "cell_type": "code",
   "execution_count": 41,
   "metadata": {
    "scrolled": false
   },
   "outputs": [],
   "source": [
    "#merge 2019 store data with category fcst\n",
    "df_final_name_cat = df_final_cat.merge(TYL4W, left_on = 'concat', right_on = 'concat', how='left')"
   ]
  },
  {
   "cell_type": "code",
   "execution_count": 42,
   "metadata": {},
   "outputs": [],
   "source": [
    "#create fcst growth category * average units sold last 4 weeks * 6\n",
    "df_final_name_cat['fcst_store'] = df_final_name_cat['growth_cat']*df_final_name_cat['u']*6\n",
    "#rename columns\n",
    "df_final_name_cat.columns = ['index', 'store_x', 'Name_x', 'avg', 'fcst_x', 'Family', 'Category',\n",
    "       'Brand', 'fcst_y', 'u', 'growth_cat', 'concat', 'store_y', 'Name_y',\n",
    "       'u_name', 'fcst_store']"
   ]
  },
  {
   "cell_type": "code",
   "execution_count": 43,
   "metadata": {},
   "outputs": [],
   "source": [
    "df_final_name_cat['fcst_store'] = (1+df_final_name_cat['growth_cat'])*df_final_name_cat['u_name']\n",
    "df_2 = df_final_name_cat[['store_x','Name_x','fcst_store','concat']]"
   ]
  },
  {
   "cell_type": "code",
   "execution_count": 44,
   "metadata": {},
   "outputs": [],
   "source": [
    "#lists of succesfull fcst combination name-store\n",
    "lista2 = df_2.concat\n",
    "lista = df.concat"
   ]
  },
  {
   "cell_type": "markdown",
   "metadata": {},
   "source": [
    "#### Are we still missing some?"
   ]
  },
  {
   "cell_type": "code",
   "execution_count": 46,
   "metadata": {},
   "outputs": [],
   "source": [
    "lista3 = TYL4W.concat"
   ]
  },
  {
   "cell_type": "code",
   "execution_count": 48,
   "metadata": {},
   "outputs": [],
   "source": [
    "#check which combinations are still in lista3 that are not in the previous 2 dataframes\n",
    "missing = TYL4W[~TYL4W.concat.isin(df_2.concat)]\n",
    "#missing = missing[~missing.concat.isin(df.concat)]"
   ]
  },
  {
   "cell_type": "code",
   "execution_count": 50,
   "metadata": {},
   "outputs": [
    {
     "data": {
      "text/html": [
       "<div>\n",
       "<style scoped>\n",
       "    .dataframe tbody tr th:only-of-type {\n",
       "        vertical-align: middle;\n",
       "    }\n",
       "\n",
       "    .dataframe tbody tr th {\n",
       "        vertical-align: top;\n",
       "    }\n",
       "\n",
       "    .dataframe thead th {\n",
       "        text-align: right;\n",
       "    }\n",
       "</style>\n",
       "<table border=\"1\" class=\"dataframe\">\n",
       "  <thead>\n",
       "    <tr style=\"text-align: right;\">\n",
       "      <th></th>\n",
       "      <th>store</th>\n",
       "      <th>Name</th>\n",
       "      <th>u</th>\n",
       "      <th>concat</th>\n",
       "    </tr>\n",
       "  </thead>\n",
       "  <tbody>\n",
       "    <tr>\n",
       "      <th>24</th>\n",
       "      <td>1</td>\n",
       "      <td>131</td>\n",
       "      <td>5.00</td>\n",
       "      <td>1131</td>\n",
       "    </tr>\n",
       "    <tr>\n",
       "      <th>29</th>\n",
       "      <td>1</td>\n",
       "      <td>195</td>\n",
       "      <td>2.00</td>\n",
       "      <td>1195</td>\n",
       "    </tr>\n",
       "    <tr>\n",
       "      <th>49</th>\n",
       "      <td>1</td>\n",
       "      <td>250</td>\n",
       "      <td>2.00</td>\n",
       "      <td>1250</td>\n",
       "    </tr>\n",
       "    <tr>\n",
       "      <th>51</th>\n",
       "      <td>1</td>\n",
       "      <td>296</td>\n",
       "      <td>2.50</td>\n",
       "      <td>1296</td>\n",
       "    </tr>\n",
       "    <tr>\n",
       "      <th>79</th>\n",
       "      <td>1</td>\n",
       "      <td>493</td>\n",
       "      <td>3.50</td>\n",
       "      <td>1493</td>\n",
       "    </tr>\n",
       "    <tr>\n",
       "      <th>...</th>\n",
       "      <td>...</td>\n",
       "      <td>...</td>\n",
       "      <td>...</td>\n",
       "      <td>...</td>\n",
       "    </tr>\n",
       "    <tr>\n",
       "      <th>229237</th>\n",
       "      <td>410</td>\n",
       "      <td>2614</td>\n",
       "      <td>1.00</td>\n",
       "      <td>4102614</td>\n",
       "    </tr>\n",
       "    <tr>\n",
       "      <th>229243</th>\n",
       "      <td>410</td>\n",
       "      <td>2657</td>\n",
       "      <td>1.00</td>\n",
       "      <td>4102657</td>\n",
       "    </tr>\n",
       "    <tr>\n",
       "      <th>229268</th>\n",
       "      <td>410</td>\n",
       "      <td>2727</td>\n",
       "      <td>3.00</td>\n",
       "      <td>4102727</td>\n",
       "    </tr>\n",
       "    <tr>\n",
       "      <th>229269</th>\n",
       "      <td>410</td>\n",
       "      <td>2728</td>\n",
       "      <td>1.75</td>\n",
       "      <td>4102728</td>\n",
       "    </tr>\n",
       "    <tr>\n",
       "      <th>229279</th>\n",
       "      <td>410</td>\n",
       "      <td>2777</td>\n",
       "      <td>6.00</td>\n",
       "      <td>4102777</td>\n",
       "    </tr>\n",
       "  </tbody>\n",
       "</table>\n",
       "<p>18447 rows × 4 columns</p>\n",
       "</div>"
      ],
      "text/plain": [
       "        store  Name     u   concat\n",
       "24          1   131  5.00     1131\n",
       "29          1   195  2.00     1195\n",
       "49          1   250  2.00     1250\n",
       "51          1   296  2.50     1296\n",
       "79          1   493  3.50     1493\n",
       "...       ...   ...   ...      ...\n",
       "229237    410  2614  1.00  4102614\n",
       "229243    410  2657  1.00  4102657\n",
       "229268    410  2727  3.00  4102727\n",
       "229269    410  2728  1.75  4102728\n",
       "229279    410  2777  6.00  4102777\n",
       "\n",
       "[18447 rows x 4 columns]"
      ]
     },
     "execution_count": 50,
     "metadata": {},
     "output_type": "execute_result"
    }
   ],
   "source": [
    "#18447 are still missing fcst\n",
    "missing"
   ]
  },
  {
   "cell_type": "code",
   "execution_count": 51,
   "metadata": {},
   "outputs": [],
   "source": [
    "family_fcst = pd.read_csv('fcst/family_predictions.csv')"
   ]
  },
  {
   "cell_type": "code",
   "execution_count": 53,
   "metadata": {},
   "outputs": [],
   "source": [
    "df_19 = pd.read_csv('2019.csv')\n",
    "#same as before but with family\n",
    "format='%Y-%m-%d'\n",
    "df_19.drop(columns=['Brand','Name','sku', 'Category','store'], inplace = True)\n",
    "df_19['date'] = pd.to_datetime(df_19['week'], format='%Y-%m-%d')\n",
    "df_19['week'] = df_19['date'].dt.week\n",
    "df_19['year'] = df_19['date'].dt.year\n",
    "df_19.drop(columns=['date'], inplace = True)\n",
    "g19 = df_19.groupby(['Family','year','week']).sum()\n",
    "g19.reset_index(inplace = True)\n",
    "\n",
    "g19 = g19[g19['week'].isin([41,42,43,44])]\n",
    "g19 = g19.drop(columns = ['year','week', '  v'])\n",
    "g19 = g19.groupby(['Family']).mean()\n",
    "g19.index = g19.index.map(str)"
   ]
  },
  {
   "cell_type": "code",
   "execution_count": 54,
   "metadata": {},
   "outputs": [
    {
     "data": {
      "text/html": [
       "<div>\n",
       "<style scoped>\n",
       "    .dataframe tbody tr th:only-of-type {\n",
       "        vertical-align: middle;\n",
       "    }\n",
       "\n",
       "    .dataframe tbody tr th {\n",
       "        vertical-align: top;\n",
       "    }\n",
       "\n",
       "    .dataframe thead th {\n",
       "        text-align: right;\n",
       "    }\n",
       "</style>\n",
       "<table border=\"1\" class=\"dataframe\">\n",
       "  <thead>\n",
       "    <tr style=\"text-align: right;\">\n",
       "      <th></th>\n",
       "      <th>u</th>\n",
       "    </tr>\n",
       "    <tr>\n",
       "      <th>Family</th>\n",
       "      <th></th>\n",
       "    </tr>\n",
       "  </thead>\n",
       "  <tbody>\n",
       "    <tr>\n",
       "      <th>1</th>\n",
       "      <td>159636.625</td>\n",
       "    </tr>\n",
       "    <tr>\n",
       "      <th>2</th>\n",
       "      <td>69507.625</td>\n",
       "    </tr>\n",
       "  </tbody>\n",
       "</table>\n",
       "</div>"
      ],
      "text/plain": [
       "                 u\n",
       "Family            \n",
       "1       159636.625\n",
       "2        69507.625"
      ]
     },
     "execution_count": 54,
     "metadata": {},
     "output_type": "execute_result"
    }
   ],
   "source": [
    "g19.head(2)"
   ]
  },
  {
   "cell_type": "code",
   "execution_count": 55,
   "metadata": {},
   "outputs": [],
   "source": [
    "family_fcst['week'] = family_fcst['Unnamed: 0']\n",
    "family_fcst.drop('Unnamed: 0', axis=1, inplace = True)\n",
    "#first 6 weeks of fcst\n",
    "family_fcst = family_fcst[:6]\n",
    "#unpivot columns and check average sold per category in the last 6 weeks of 2019\n",
    "family_fcst = pd.melt(family_fcst, id_vars=['week'], var_name='Category', value_name='fcst')\n",
    "family_fcst.drop('week', axis =1, inplace = True)\n",
    "family_fcst = family_fcst.groupby(['Category']).mean()"
   ]
  },
  {
   "cell_type": "code",
   "execution_count": 56,
   "metadata": {},
   "outputs": [],
   "source": [
    "#merge 2019 famegory data with fcst famegory and calculate growth of the famegory\n",
    "merge_fam = family_fcst.merge(g19, left_index = True, right_index = True)\n",
    "merge_fam = merge_fam[merge_fam.fcst.notnull()]\n",
    "merge_fam.columns = ['fcst','u']\n",
    "merge_fam['growth_fam'] = merge_fam['fcst']/merge_fam['u']-1"
   ]
  },
  {
   "cell_type": "code",
   "execution_count": 57,
   "metadata": {},
   "outputs": [
    {
     "data": {
      "text/html": [
       "<div>\n",
       "<style scoped>\n",
       "    .dataframe tbody tr th:only-of-type {\n",
       "        vertical-align: middle;\n",
       "    }\n",
       "\n",
       "    .dataframe tbody tr th {\n",
       "        vertical-align: top;\n",
       "    }\n",
       "\n",
       "    .dataframe thead th {\n",
       "        text-align: right;\n",
       "    }\n",
       "</style>\n",
       "<table border=\"1\" class=\"dataframe\">\n",
       "  <thead>\n",
       "    <tr style=\"text-align: right;\">\n",
       "      <th></th>\n",
       "      <th>fcst</th>\n",
       "      <th>u</th>\n",
       "      <th>growth_fam</th>\n",
       "    </tr>\n",
       "  </thead>\n",
       "  <tbody>\n",
       "    <tr>\n",
       "      <th>1</th>\n",
       "      <td>173720.712652</td>\n",
       "      <td>159636.625</td>\n",
       "      <td>0.088226</td>\n",
       "    </tr>\n",
       "    <tr>\n",
       "      <th>10</th>\n",
       "      <td>7401.313737</td>\n",
       "      <td>6968.625</td>\n",
       "      <td>0.062091</td>\n",
       "    </tr>\n",
       "    <tr>\n",
       "      <th>12</th>\n",
       "      <td>201681.665611</td>\n",
       "      <td>189569.625</td>\n",
       "      <td>0.063892</td>\n",
       "    </tr>\n",
       "  </tbody>\n",
       "</table>\n",
       "</div>"
      ],
      "text/plain": [
       "             fcst           u  growth_fam\n",
       "1   173720.712652  159636.625    0.088226\n",
       "10    7401.313737    6968.625    0.062091\n",
       "12  201681.665611  189569.625    0.063892"
      ]
     },
     "execution_count": 57,
     "metadata": {},
     "output_type": "execute_result"
    }
   ],
   "source": [
    "merge_fam.head(3)"
   ]
  },
  {
   "cell_type": "code",
   "execution_count": 58,
   "metadata": {
    "scrolled": true
   },
   "outputs": [],
   "source": [
    "#anything that didn't have a name fcst, here we check the category they are associated with\n",
    "dict_0['Name'] = dict_0['Name'].astype(str)\n",
    "\n",
    "fcst_zero = fcst_zero_name.merge(dict_0, left_index = True, right_on = 'Name')\n",
    "\n",
    "fcst_zero['Family'] = fcst_zero['Family'].astype(str)\n",
    "merge_cat.index = merge_cat.index.map(str)\n",
    "\n",
    "df_fam = fcst_zero.merge(merge_fam, left_on = 'Family', right_index = True)"
   ]
  },
  {
   "cell_type": "code",
   "execution_count": 59,
   "metadata": {},
   "outputs": [],
   "source": [
    "#re-do name-store extract data \n",
    "df_19 = pd.read_csv('2019.csv')\n",
    "format='%Y-%m-%d'\n",
    "df_19.drop(columns=['Brand','Category','sku', 'Family'], inplace = True)\n",
    "df_19['date'] = pd.to_datetime(df_19['week'], format='%Y-%m-%d')\n",
    "df_19['week'] = df_19['date'].dt.week\n",
    "df_19['year'] = df_19['date'].dt.year\n",
    "df_19.drop(columns=['date'], inplace = True)\n",
    "g19 = df_19.groupby(['store','Name','year','week']).sum()\n",
    "g19.reset_index(inplace = True)"
   ]
  },
  {
   "cell_type": "code",
   "execution_count": 60,
   "metadata": {
    "scrolled": true
   },
   "outputs": [],
   "source": [
    "df_final_fam = df.merge(df_fam, left_on = 'Name', right_on = 'Name', how='inner')"
   ]
  },
  {
   "cell_type": "markdown",
   "metadata": {
    "scrolled": true
   },
   "source": [
    "df.reset_index(inplace = True)\n",
    "df_final_fam.reset_index(inplace = True)"
   ]
  },
  {
   "cell_type": "code",
   "execution_count": 61,
   "metadata": {},
   "outputs": [],
   "source": [
    "#excluding the names that got a fcst already from before\n",
    "df_final_fam = df_final_fam[~df_final_fam.concat.isin(df.concat)]\n",
    "df_final_fam = merge.merge(df_fam, left_on = 'Name', right_on = 'Name', how = 'inner')\n",
    "df_final_fam['concat'] = df_final_fam['store'].astype(str)+df_final_fam['Name'].astype(str)"
   ]
  },
  {
   "cell_type": "code",
   "execution_count": 63,
   "metadata": {
    "scrolled": true
   },
   "outputs": [],
   "source": [
    "#df.reset_index(inplace = True)\n",
    "df_final_fam.reset_index(inplace = True)"
   ]
  },
  {
   "cell_type": "code",
   "execution_count": 64,
   "metadata": {},
   "outputs": [],
   "source": [
    "#2019 data to fcst at name level\n",
    "TYL4W = g19[g19['week'].isin([41,42,43,44,45])].drop(['  v','year','week'], axis = 1)\n",
    "TYL4W = TYL4W.groupby(['store','Name']).mean()\n",
    "TYL4W.reset_index(inplace = True)\n",
    "TYL4W['concat'] = TYL4W['store'].astype(str)+TYL4W['Name'].astype(str)"
   ]
  },
  {
   "cell_type": "code",
   "execution_count": 65,
   "metadata": {
    "scrolled": false
   },
   "outputs": [],
   "source": [
    "#merge 2019 store data with category fcst\n",
    "df_final_name_fam = df_final_fam.merge(TYL4W, left_on = 'concat', right_on = 'concat', how='left')"
   ]
  },
  {
   "cell_type": "code",
   "execution_count": 66,
   "metadata": {},
   "outputs": [],
   "source": [
    "#create fcst growth category * average units sold last 4 weeks * 6\n",
    "df_final_name_fam['fcst_store'] = df_final_name_fam['growth_fam']*df_final_name_cat['u']*6\n",
    "#rename columns\n",
    "df_final_name_fam.columns = ['index', 'store_x', 'Name_x', 'avg', 'fcst_x', 'Family', 'Category',\n",
    "       'Brand', 'fcst_y', 'u', 'growth_fam', 'concat', 'store_y', 'Name_y',\n",
    "       'u_name', 'fcst_store']"
   ]
  },
  {
   "cell_type": "code",
   "execution_count": 67,
   "metadata": {
    "scrolled": true
   },
   "outputs": [],
   "source": [
    "df_final_name_fam['fcst_store'] = (1+df_final_name_fam['growth_fam'])*df_final_name_fam['u_name']\n",
    "df_3 = df_final_name_fam[['store_x','Name_x','fcst_store','concat']]"
   ]
  },
  {
   "cell_type": "code",
   "execution_count": 68,
   "metadata": {
    "scrolled": true
   },
   "outputs": [],
   "source": [
    "#fcst for anything that was missing from the category fcst\n",
    "df_3_final = df_3[df_3.concat.isin(missing.concat)]"
   ]
  },
  {
   "cell_type": "markdown",
   "metadata": {},
   "source": [
    "### all fcst together"
   ]
  },
  {
   "cell_type": "code",
   "execution_count": 71,
   "metadata": {},
   "outputs": [
    {
     "data": {
      "text/html": [
       "<div>\n",
       "<style scoped>\n",
       "    .dataframe tbody tr th:only-of-type {\n",
       "        vertical-align: middle;\n",
       "    }\n",
       "\n",
       "    .dataframe tbody tr th {\n",
       "        vertical-align: top;\n",
       "    }\n",
       "\n",
       "    .dataframe thead th {\n",
       "        text-align: right;\n",
       "    }\n",
       "</style>\n",
       "<table border=\"1\" class=\"dataframe\">\n",
       "  <thead>\n",
       "    <tr style=\"text-align: right;\">\n",
       "      <th></th>\n",
       "      <th>store_x</th>\n",
       "      <th>Name_x</th>\n",
       "      <th>fcst_store</th>\n",
       "      <th>concat</th>\n",
       "    </tr>\n",
       "  </thead>\n",
       "  <tbody>\n",
       "    <tr>\n",
       "      <th>1740</th>\n",
       "      <td>1</td>\n",
       "      <td>131</td>\n",
       "      <td>4.895435</td>\n",
       "      <td>1131</td>\n",
       "    </tr>\n",
       "    <tr>\n",
       "      <th>1741</th>\n",
       "      <td>2</td>\n",
       "      <td>131</td>\n",
       "      <td>1.631812</td>\n",
       "      <td>2131</td>\n",
       "    </tr>\n",
       "    <tr>\n",
       "      <th>1742</th>\n",
       "      <td>3</td>\n",
       "      <td>131</td>\n",
       "      <td>3.426804</td>\n",
       "      <td>3131</td>\n",
       "    </tr>\n",
       "    <tr>\n",
       "      <th>1743</th>\n",
       "      <td>4</td>\n",
       "      <td>131</td>\n",
       "      <td>1.468630</td>\n",
       "      <td>4131</td>\n",
       "    </tr>\n",
       "    <tr>\n",
       "      <th>1744</th>\n",
       "      <td>7</td>\n",
       "      <td>131</td>\n",
       "      <td>0.979087</td>\n",
       "      <td>7131</td>\n",
       "    </tr>\n",
       "    <tr>\n",
       "      <th>...</th>\n",
       "      <td>...</td>\n",
       "      <td>...</td>\n",
       "      <td>...</td>\n",
       "      <td>...</td>\n",
       "    </tr>\n",
       "    <tr>\n",
       "      <th>122325</th>\n",
       "      <td>389</td>\n",
       "      <td>2464</td>\n",
       "      <td>1.059436</td>\n",
       "      <td>3892464</td>\n",
       "    </tr>\n",
       "    <tr>\n",
       "      <th>122328</th>\n",
       "      <td>391</td>\n",
       "      <td>2164</td>\n",
       "      <td>1.059436</td>\n",
       "      <td>3912164</td>\n",
       "    </tr>\n",
       "    <tr>\n",
       "      <th>122332</th>\n",
       "      <td>398</td>\n",
       "      <td>2689</td>\n",
       "      <td>1.059436</td>\n",
       "      <td>3982689</td>\n",
       "    </tr>\n",
       "    <tr>\n",
       "      <th>122333</th>\n",
       "      <td>399</td>\n",
       "      <td>637</td>\n",
       "      <td>1.059436</td>\n",
       "      <td>399637</td>\n",
       "    </tr>\n",
       "    <tr>\n",
       "      <th>122337</th>\n",
       "      <td>407</td>\n",
       "      <td>1992</td>\n",
       "      <td>1.097788</td>\n",
       "      <td>4071992</td>\n",
       "    </tr>\n",
       "  </tbody>\n",
       "</table>\n",
       "<p>18088 rows × 4 columns</p>\n",
       "</div>"
      ],
      "text/plain": [
       "        store_x Name_x  fcst_store   concat\n",
       "1740          1    131    4.895435     1131\n",
       "1741          2    131    1.631812     2131\n",
       "1742          3    131    3.426804     3131\n",
       "1743          4    131    1.468630     4131\n",
       "1744          7    131    0.979087     7131\n",
       "...         ...    ...         ...      ...\n",
       "122325      389   2464    1.059436  3892464\n",
       "122328      391   2164    1.059436  3912164\n",
       "122332      398   2689    1.059436  3982689\n",
       "122333      399    637    1.059436   399637\n",
       "122337      407   1992    1.097788  4071992\n",
       "\n",
       "[18088 rows x 4 columns]"
      ]
     },
     "execution_count": 71,
     "metadata": {},
     "output_type": "execute_result"
    }
   ],
   "source": [
    "df_3_final"
   ]
  },
  {
   "cell_type": "code",
   "execution_count": 72,
   "metadata": {},
   "outputs": [],
   "source": [
    "df = df[['store', 'Name','fcst_store','concat']]"
   ]
  },
  {
   "cell_type": "code",
   "execution_count": 81,
   "metadata": {},
   "outputs": [],
   "source": [
    "df_2.columns = df.columns\n",
    "df_3_final.columns = df.columns"
   ]
  },
  {
   "cell_type": "code",
   "execution_count": 85,
   "metadata": {},
   "outputs": [],
   "source": [
    "final_fcst = df.append([df_2, df_3_final])"
   ]
  },
  {
   "cell_type": "code",
   "execution_count": 89,
   "metadata": {
    "scrolled": true
   },
   "outputs": [
    {
     "data": {
      "text/html": [
       "<div>\n",
       "<style scoped>\n",
       "    .dataframe tbody tr th:only-of-type {\n",
       "        vertical-align: middle;\n",
       "    }\n",
       "\n",
       "    .dataframe tbody tr th {\n",
       "        vertical-align: top;\n",
       "    }\n",
       "\n",
       "    .dataframe thead th {\n",
       "        text-align: right;\n",
       "    }\n",
       "</style>\n",
       "<table border=\"1\" class=\"dataframe\">\n",
       "  <thead>\n",
       "    <tr style=\"text-align: right;\">\n",
       "      <th></th>\n",
       "      <th>store</th>\n",
       "      <th>Name</th>\n",
       "      <th>fcst_store</th>\n",
       "      <th>concat</th>\n",
       "    </tr>\n",
       "  </thead>\n",
       "  <tbody>\n",
       "    <tr>\n",
       "      <th>0</th>\n",
       "      <td>1</td>\n",
       "      <td>14</td>\n",
       "      <td>867.773657</td>\n",
       "      <td>114</td>\n",
       "    </tr>\n",
       "    <tr>\n",
       "      <th>1</th>\n",
       "      <td>2</td>\n",
       "      <td>14</td>\n",
       "      <td>168.901093</td>\n",
       "      <td>214</td>\n",
       "    </tr>\n",
       "    <tr>\n",
       "      <th>2</th>\n",
       "      <td>3</td>\n",
       "      <td>14</td>\n",
       "      <td>219.818014</td>\n",
       "      <td>314</td>\n",
       "    </tr>\n",
       "    <tr>\n",
       "      <th>3</th>\n",
       "      <td>4</td>\n",
       "      <td>14</td>\n",
       "      <td>313.573148</td>\n",
       "      <td>414</td>\n",
       "    </tr>\n",
       "    <tr>\n",
       "      <th>4</th>\n",
       "      <td>5</td>\n",
       "      <td>14</td>\n",
       "      <td>67.206393</td>\n",
       "      <td>514</td>\n",
       "    </tr>\n",
       "    <tr>\n",
       "      <th>...</th>\n",
       "      <td>...</td>\n",
       "      <td>...</td>\n",
       "      <td>...</td>\n",
       "      <td>...</td>\n",
       "    </tr>\n",
       "    <tr>\n",
       "      <th>122325</th>\n",
       "      <td>389</td>\n",
       "      <td>2464</td>\n",
       "      <td>1.059436</td>\n",
       "      <td>3892464</td>\n",
       "    </tr>\n",
       "    <tr>\n",
       "      <th>122328</th>\n",
       "      <td>391</td>\n",
       "      <td>2164</td>\n",
       "      <td>1.059436</td>\n",
       "      <td>3912164</td>\n",
       "    </tr>\n",
       "    <tr>\n",
       "      <th>122332</th>\n",
       "      <td>398</td>\n",
       "      <td>2689</td>\n",
       "      <td>1.059436</td>\n",
       "      <td>3982689</td>\n",
       "    </tr>\n",
       "    <tr>\n",
       "      <th>122333</th>\n",
       "      <td>399</td>\n",
       "      <td>637</td>\n",
       "      <td>1.059436</td>\n",
       "      <td>399637</td>\n",
       "    </tr>\n",
       "    <tr>\n",
       "      <th>122337</th>\n",
       "      <td>407</td>\n",
       "      <td>1992</td>\n",
       "      <td>1.097788</td>\n",
       "      <td>4071992</td>\n",
       "    </tr>\n",
       "  </tbody>\n",
       "</table>\n",
       "<p>232102 rows × 4 columns</p>\n",
       "</div>"
      ],
      "text/plain": [
       "        store  Name  fcst_store   concat\n",
       "0           1    14  867.773657      114\n",
       "1           2    14  168.901093      214\n",
       "2           3    14  219.818014      314\n",
       "3           4    14  313.573148      414\n",
       "4           5    14   67.206393      514\n",
       "...       ...   ...         ...      ...\n",
       "122325    389  2464    1.059436  3892464\n",
       "122328    391  2164    1.059436  3912164\n",
       "122332    398  2689    1.059436  3982689\n",
       "122333    399   637    1.059436   399637\n",
       "122337    407  1992    1.097788  4071992\n",
       "\n",
       "[232102 rows x 4 columns]"
      ]
     },
     "execution_count": 89,
     "metadata": {},
     "output_type": "execute_result"
    }
   ],
   "source": [
    "final_fcst"
   ]
  }
 ],
 "metadata": {
  "kernelspec": {
   "display_name": "Python 3",
   "language": "python",
   "name": "python3"
  },
  "language_info": {
   "codemirror_mode": {
    "name": "ipython",
    "version": 3
   },
   "file_extension": ".py",
   "mimetype": "text/x-python",
   "name": "python",
   "nbconvert_exporter": "python",
   "pygments_lexer": "ipython3",
   "version": "3.8.5"
  }
 },
 "nbformat": 4,
 "nbformat_minor": 4
}
